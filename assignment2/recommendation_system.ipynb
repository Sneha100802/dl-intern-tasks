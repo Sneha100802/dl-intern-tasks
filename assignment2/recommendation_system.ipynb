{
 "cells": [
  {
   "cell_type": "code",
   "execution_count": 1,
   "id": "74b0cd0d-c86c-48d1-be96-5cef0a4a3006",
   "metadata": {},
   "outputs": [],
   "source": [
    "# importing libraries and making a new directory\n",
    "import pandas as pd, numpy as np, random, os\n",
    "from sklearn.metrics import ndcg_score\n",
    "from sklearn.decomposition import TruncatedSVD\n",
    "os.makedirs(\"data\", exist_ok=True)\n"
   ]
  },
  {
   "cell_type": "code",
   "execution_count": 2,
   "id": "76bf5ecf-12ab-41cf-b35f-4b96650ebe26",
   "metadata": {},
   "outputs": [],
   "source": [
    "# Users Data\n",
    "users = pd.DataFrame({\n",
    "    \"user_id\": [201,202,203],\n",
    "    \"preferred_categories\": [[\"tutorial\",\"case-study\"],[\"opinion\"],[\"tutorial\",\"opinion\"]],\n",
    "    \"historical_avg_sentiment\": [0.8,-0.3,0.5],\n",
    "    \"avg_engagement_time\": [200,120,250]\n",
    "})\n",
    "users.to_csv(\"data/users.csv\", index=False)\n"
   ]
  },
  {
   "cell_type": "code",
   "execution_count": 3,
   "id": "09c0abc8-75f0-4940-9fc8-f99a13d81eaf",
   "metadata": {},
   "outputs": [],
   "source": [
    "# Loading Scored Posts from assignment1 folder\n",
    "posts = pd.read_csv(r\"C:\\Users\\jhasn\\OneDrive\\Desktop\\Projects\\dl-intern-tasks\\assignment1\\scored_posts.csv\")"
   ]
  },
  {
   "cell_type": "code",
   "execution_count": 4,
   "id": "b7d3450f-aa8d-48da-9808-a949c3190782",
   "metadata": {},
   "outputs": [],
   "source": [
    "# creating recommendation Logic\n",
    "def recommend_for_user(user, posts, top_k=5):\n",
    "    df = posts.copy()\n",
    "    df = df[df[\"category\"].isin(user[\"preferred_categories\"])]\n",
    "    df[\"personalization_score\"] = (\n",
    "        -abs(df[\"sentiment_score\"] - user[\"historical_avg_sentiment\"])\n",
    "        -abs(df[\"avg_read_time_seconds\"] - user[\"avg_engagement_time\"]) / 400\n",
    "    )\n",
    "    df[\"final_score\"] = df[\"relevance_score\"] + 0.3*df[\"personalization_score\"]\n",
    "    df = df.sort_values(\"final_score\", ascending=False)\n",
    "    return df.groupby(\"category\").head(3).head(top_k)"
   ]
  },
  {
   "cell_type": "code",
   "execution_count": 5,
   "id": "2f26089d-dc98-4f2b-b732-c117d4e6ce2d",
   "metadata": {},
   "outputs": [],
   "source": [
    "# Evaluation Metrics\n",
    "def precision_at_k(recommended, relevant, k=5):\n",
    "    return len(set(recommended[:k]) & set(relevant)) / k\n",
    "\n",
    "def ndcg_at_k(recommended, relevant, k=5):\n",
    "    y_true = [[1 if pid in relevant else 0 for pid in recommended[:k]]]\n",
    "    y_score = [[1]*len(recommended[:k])]\n",
    "    return ndcg_score(y_true, y_score)\n",
    "\n"
   ]
  },
  {
   "cell_type": "code",
   "execution_count": 6,
   "id": "4f52b37f-bf31-4471-b004-b76fad099606",
   "metadata": {},
   "outputs": [
    {
     "name": "stdout",
     "output_type": "stream",
     "text": [
      "\n",
      "🔹 User 201 → P@5=0.40, NDCG@5=1.00\n",
      "     post_id    category  final_score\n",
      "98         3    tutorial      1.27125\n",
      "67         3    tutorial      1.27125\n",
      "136        3    tutorial      1.27125\n",
      "94         1  case-study      0.79200\n",
      "88         1  case-study      0.79200\n",
      "\n",
      "🔹 User 202 → P@5=0.20, NDCG@5=1.00\n",
      "    post_id category  final_score\n",
      "6         2  opinion       0.1095\n",
      "7         2  opinion       0.1095\n",
      "16        2  opinion       0.1095\n",
      "\n",
      "🔹 User 203 → P@5=0.20, NDCG@5=0.83\n",
      "     post_id  category  final_score\n",
      "1          3  tutorial      1.21875\n",
      "13         3  tutorial      1.21875\n",
      "132        3  tutorial      1.21875\n",
      "7          2   opinion      0.34200\n",
      "134        2   opinion      0.34200\n"
     ]
    }
   ],
   "source": [
    "# Simulate relevant posts for evaluation\n",
    "relevant_items = {201:[1,3], 202:[2,4], 203:[3,5]}\n",
    "\n",
    "for _, user in users.iterrows():\n",
    "    recs = recommend_for_user(user, posts)\n",
    "    recommended = recs[\"post_id\"].tolist()\n",
    "    prec = precision_at_k(recommended, relevant_items[user[\"user_id\"]])\n",
    "    ndcg = ndcg_at_k(recommended, relevant_items[user[\"user_id\"]])\n",
    "    print(f\"\\n🔹 User {user['user_id']} → P@5={prec:.2f}, NDCG@5={ndcg:.2f}\")\n",
    "    print(recs[[\"post_id\",\"category\",\"final_score\"]])\n"
   ]
  },
  {
   "cell_type": "code",
   "execution_count": 7,
   "id": "816af8d9-adfc-4ece-90c0-4c6ca75a083d",
   "metadata": {},
   "outputs": [
    {
     "name": "stdout",
     "output_type": "stream",
     "text": [
      "\n",
      "🔹 CF Recommendations for User 201: [2, 5, 1, 4, 3]\n",
      "\n",
      "🔹 CF Recommendations for User 202: [1, 3, 2, 5, 4]\n",
      "\n",
      "🔹 CF Recommendations for User 203: [5, 3, 4, 2, 1]\n"
     ]
    }
   ],
   "source": [
    "# Collaborative Filtering (Matrix Factorization)\n",
    "interaction_df = pd.DataFrame({\n",
    "    \"user_id\": random.choices(users[\"user_id\"], k=50),\n",
    "    \"post_id\": random.choices(posts[\"post_id\"], k=50),\n",
    "    \"clicks\": random.choices([0,1], k=50)\n",
    "})\n",
    "\n",
    "pivot = interaction_df.pivot_table(index=\"user_id\", columns=\"post_id\", values=\"clicks\", fill_value=0)\n",
    "svd = TruncatedSVD(n_components=3)\n",
    "latent_matrix = svd.fit_transform(pivot)\n",
    "latent_posts = svd.components_\n",
    "\n",
    "pred_matrix = np.dot(latent_matrix, latent_posts)\n",
    "pred_df = pd.DataFrame(pred_matrix, index=pivot.index, columns=pivot.columns)\n",
    "\n",
    "for user in pred_df.index:\n",
    "    print(f\"\\n🔹 CF Recommendations for User {user}: {pred_df.loc[user].sort_values(ascending=False).head(5).index.tolist()}\")\n"
   ]
  }
 ],
 "metadata": {
  "kernelspec": {
   "display_name": "Python 3 (ipykernel)",
   "language": "python",
   "name": "python3"
  },
  "language_info": {
   "codemirror_mode": {
    "name": "ipython",
    "version": 3
   },
   "file_extension": ".py",
   "mimetype": "text/x-python",
   "name": "python",
   "nbconvert_exporter": "python",
   "pygments_lexer": "ipython3",
   "version": "3.13.1"
  }
 },
 "nbformat": 4,
 "nbformat_minor": 5
}
